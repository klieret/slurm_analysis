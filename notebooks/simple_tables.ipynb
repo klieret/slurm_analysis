{
 "cells": [
  {
   "cell_type": "markdown",
   "metadata": {},
   "source": [
    "# Tally slurm total GPU hours for an account\n",
    "\n",
    "This assumes that you have run\n",
    "\n",
    "```bash\n",
    "STARTDATE=$(date --date=\"90 days ago\" +%F)\n",
    "echo $STARTDATE\n",
    "sacct -S \"${STARTDATE}\" --partition pli-c --allusers --json > sacct_pli_core.json\n",
    "echo \"done\"\n",
    "sacct -S \"${STARTDATE}\" --partition pli-lc --allusers --json > sacct_pli_large_campus.json\n",
    "echo \"done\"\n",
    "sacct -S \"${STARTDATE}\" --partition pli --allusers --json > sacct_pli_campus.json\n",
    "echo \"done\"\n",
    "tar -vzcf pli_stats.tar.gz *.json\n",
    "```\n"
   ]
  },
  {
   "cell_type": "code",
   "execution_count": 1,
   "metadata": {},
   "outputs": [],
   "source": [
    "%load_ext autoreload\n",
    "%autoreload 2\n",
    "\n",
    "import json\n",
    "from pathlib import Path\n",
    "from pandas import DataFrame as DF\n",
    "from slurm_analyzer import SLURMAnalyzer\n",
    "import pandas as pd\n",
    "from datetime import datetime\n",
    "import tabulate"
   ]
  },
  {
   "cell_type": "code",
   "execution_count": 2,
   "metadata": {},
   "outputs": [],
   "source": [
    "# dpath = Path(\"..\", 'data')\n",
    "# assert dpath.is_dir()\n",
    "dpath = Path.home() / \"tmp\"\n"
   ]
  },
  {
   "cell_type": "code",
   "execution_count": 3,
   "metadata": {},
   "outputs": [
    {
     "ename": "KeyboardInterrupt",
     "evalue": "",
     "output_type": "error",
     "traceback": [
      "\u001b[0;31m---------------------------------------------------------------------------\u001b[0m",
      "\u001b[0;31mKeyboardInterrupt\u001b[0m                         Traceback (most recent call last)",
      "Cell \u001b[0;32mIn[3], line 2\u001b[0m\n\u001b[1;32m      1\u001b[0m df \u001b[38;5;241m=\u001b[39m pd\u001b[38;5;241m.\u001b[39mconcat([\n\u001b[0;32m----> 2\u001b[0m     SLURMAnalyzer()\u001b[38;5;241m.\u001b[39mparse(\u001b[43mjson\u001b[49m\u001b[38;5;241;43m.\u001b[39;49m\u001b[43mloads\u001b[49m\u001b[43m(\u001b[49m\u001b[43m(\u001b[49m\u001b[43mdpath\u001b[49m\u001b[43m \u001b[49m\u001b[38;5;241;43m/\u001b[39;49m\u001b[43m \u001b[49m\u001b[38;5;124;43m\"\u001b[39;49m\u001b[38;5;124;43msacct_pli_core.json\u001b[39;49m\u001b[38;5;124;43m\"\u001b[39;49m\u001b[43m)\u001b[49m\u001b[38;5;241;43m.\u001b[39;49m\u001b[43mread_text\u001b[49m\u001b[43m(\u001b[49m\u001b[43m)\u001b[49m\u001b[43m)\u001b[49m),\n\u001b[1;32m      3\u001b[0m     SLURMAnalyzer()\u001b[38;5;241m.\u001b[39mparse(json\u001b[38;5;241m.\u001b[39mloads((dpath \u001b[38;5;241m/\u001b[39m \u001b[38;5;124m\"\u001b[39m\u001b[38;5;124msacct_pli_campus.json\u001b[39m\u001b[38;5;124m\"\u001b[39m)\u001b[38;5;241m.\u001b[39mread_text())),\n\u001b[1;32m      4\u001b[0m     SLURMAnalyzer()\u001b[38;5;241m.\u001b[39mparse(json\u001b[38;5;241m.\u001b[39mloads((dpath \u001b[38;5;241m/\u001b[39m \u001b[38;5;124m\"\u001b[39m\u001b[38;5;124msacct_pli_large_campus.json\u001b[39m\u001b[38;5;124m\"\u001b[39m)\u001b[38;5;241m.\u001b[39mread_text()))\n\u001b[1;32m      5\u001b[0m ])\n",
      "File \u001b[0;32m/opt/homebrew/Cellar/python@3.12/3.12.5/Frameworks/Python.framework/Versions/3.12/lib/python3.12/json/__init__.py:346\u001b[0m, in \u001b[0;36mloads\u001b[0;34m(s, cls, object_hook, parse_float, parse_int, parse_constant, object_pairs_hook, **kw)\u001b[0m\n\u001b[1;32m    341\u001b[0m     s \u001b[38;5;241m=\u001b[39m s\u001b[38;5;241m.\u001b[39mdecode(detect_encoding(s), \u001b[38;5;124m'\u001b[39m\u001b[38;5;124msurrogatepass\u001b[39m\u001b[38;5;124m'\u001b[39m)\n\u001b[1;32m    343\u001b[0m \u001b[38;5;28;01mif\u001b[39;00m (\u001b[38;5;28mcls\u001b[39m \u001b[38;5;129;01mis\u001b[39;00m \u001b[38;5;28;01mNone\u001b[39;00m \u001b[38;5;129;01mand\u001b[39;00m object_hook \u001b[38;5;129;01mis\u001b[39;00m \u001b[38;5;28;01mNone\u001b[39;00m \u001b[38;5;129;01mand\u001b[39;00m\n\u001b[1;32m    344\u001b[0m         parse_int \u001b[38;5;129;01mis\u001b[39;00m \u001b[38;5;28;01mNone\u001b[39;00m \u001b[38;5;129;01mand\u001b[39;00m parse_float \u001b[38;5;129;01mis\u001b[39;00m \u001b[38;5;28;01mNone\u001b[39;00m \u001b[38;5;129;01mand\u001b[39;00m\n\u001b[1;32m    345\u001b[0m         parse_constant \u001b[38;5;129;01mis\u001b[39;00m \u001b[38;5;28;01mNone\u001b[39;00m \u001b[38;5;129;01mand\u001b[39;00m object_pairs_hook \u001b[38;5;129;01mis\u001b[39;00m \u001b[38;5;28;01mNone\u001b[39;00m \u001b[38;5;129;01mand\u001b[39;00m \u001b[38;5;129;01mnot\u001b[39;00m kw):\n\u001b[0;32m--> 346\u001b[0m     \u001b[38;5;28;01mreturn\u001b[39;00m \u001b[43m_default_decoder\u001b[49m\u001b[38;5;241;43m.\u001b[39;49m\u001b[43mdecode\u001b[49m\u001b[43m(\u001b[49m\u001b[43ms\u001b[49m\u001b[43m)\u001b[49m\n\u001b[1;32m    347\u001b[0m \u001b[38;5;28;01mif\u001b[39;00m \u001b[38;5;28mcls\u001b[39m \u001b[38;5;129;01mis\u001b[39;00m \u001b[38;5;28;01mNone\u001b[39;00m:\n\u001b[1;32m    348\u001b[0m     \u001b[38;5;28mcls\u001b[39m \u001b[38;5;241m=\u001b[39m JSONDecoder\n",
      "File \u001b[0;32m/opt/homebrew/Cellar/python@3.12/3.12.5/Frameworks/Python.framework/Versions/3.12/lib/python3.12/json/decoder.py:337\u001b[0m, in \u001b[0;36mJSONDecoder.decode\u001b[0;34m(self, s, _w)\u001b[0m\n\u001b[1;32m    332\u001b[0m \u001b[38;5;28;01mdef\u001b[39;00m \u001b[38;5;21mdecode\u001b[39m(\u001b[38;5;28mself\u001b[39m, s, _w\u001b[38;5;241m=\u001b[39mWHITESPACE\u001b[38;5;241m.\u001b[39mmatch):\n\u001b[1;32m    333\u001b[0m \u001b[38;5;250m    \u001b[39m\u001b[38;5;124;03m\"\"\"Return the Python representation of ``s`` (a ``str`` instance\u001b[39;00m\n\u001b[1;32m    334\u001b[0m \u001b[38;5;124;03m    containing a JSON document).\u001b[39;00m\n\u001b[1;32m    335\u001b[0m \n\u001b[1;32m    336\u001b[0m \u001b[38;5;124;03m    \"\"\"\u001b[39;00m\n\u001b[0;32m--> 337\u001b[0m     obj, end \u001b[38;5;241m=\u001b[39m \u001b[38;5;28;43mself\u001b[39;49m\u001b[38;5;241;43m.\u001b[39;49m\u001b[43mraw_decode\u001b[49m\u001b[43m(\u001b[49m\u001b[43ms\u001b[49m\u001b[43m,\u001b[49m\u001b[43m \u001b[49m\u001b[43midx\u001b[49m\u001b[38;5;241;43m=\u001b[39;49m\u001b[43m_w\u001b[49m\u001b[43m(\u001b[49m\u001b[43ms\u001b[49m\u001b[43m,\u001b[49m\u001b[43m \u001b[49m\u001b[38;5;241;43m0\u001b[39;49m\u001b[43m)\u001b[49m\u001b[38;5;241;43m.\u001b[39;49m\u001b[43mend\u001b[49m\u001b[43m(\u001b[49m\u001b[43m)\u001b[49m\u001b[43m)\u001b[49m\n\u001b[1;32m    338\u001b[0m     end \u001b[38;5;241m=\u001b[39m _w(s, end)\u001b[38;5;241m.\u001b[39mend()\n\u001b[1;32m    339\u001b[0m     \u001b[38;5;28;01mif\u001b[39;00m end \u001b[38;5;241m!=\u001b[39m \u001b[38;5;28mlen\u001b[39m(s):\n",
      "File \u001b[0;32m/opt/homebrew/Cellar/python@3.12/3.12.5/Frameworks/Python.framework/Versions/3.12/lib/python3.12/json/decoder.py:353\u001b[0m, in \u001b[0;36mJSONDecoder.raw_decode\u001b[0;34m(self, s, idx)\u001b[0m\n\u001b[1;32m    344\u001b[0m \u001b[38;5;250m\u001b[39m\u001b[38;5;124;03m\"\"\"Decode a JSON document from ``s`` (a ``str`` beginning with\u001b[39;00m\n\u001b[1;32m    345\u001b[0m \u001b[38;5;124;03ma JSON document) and return a 2-tuple of the Python\u001b[39;00m\n\u001b[1;32m    346\u001b[0m \u001b[38;5;124;03mrepresentation and the index in ``s`` where the document ended.\u001b[39;00m\n\u001b[0;32m   (...)\u001b[0m\n\u001b[1;32m    350\u001b[0m \n\u001b[1;32m    351\u001b[0m \u001b[38;5;124;03m\"\"\"\u001b[39;00m\n\u001b[1;32m    352\u001b[0m \u001b[38;5;28;01mtry\u001b[39;00m:\n\u001b[0;32m--> 353\u001b[0m     obj, end \u001b[38;5;241m=\u001b[39m \u001b[38;5;28;43mself\u001b[39;49m\u001b[38;5;241;43m.\u001b[39;49m\u001b[43mscan_once\u001b[49m\u001b[43m(\u001b[49m\u001b[43ms\u001b[49m\u001b[43m,\u001b[49m\u001b[43m \u001b[49m\u001b[43midx\u001b[49m\u001b[43m)\u001b[49m\n\u001b[1;32m    354\u001b[0m \u001b[38;5;28;01mexcept\u001b[39;00m \u001b[38;5;167;01mStopIteration\u001b[39;00m \u001b[38;5;28;01mas\u001b[39;00m err:\n\u001b[1;32m    355\u001b[0m     \u001b[38;5;28;01mraise\u001b[39;00m JSONDecodeError(\u001b[38;5;124m\"\u001b[39m\u001b[38;5;124mExpecting value\u001b[39m\u001b[38;5;124m\"\u001b[39m, s, err\u001b[38;5;241m.\u001b[39mvalue) \u001b[38;5;28;01mfrom\u001b[39;00m \u001b[38;5;28;01mNone\u001b[39;00m\n",
      "\u001b[0;31mKeyboardInterrupt\u001b[0m: "
     ]
    }
   ],
   "source": [
    "df = pd.concat([\n",
    "    SLURMAnalyzer().parse(json.loads((dpath / \"sacct_pli_core.json\").read_text())),\n",
    "    SLURMAnalyzer().parse(json.loads((dpath / \"sacct_pli_campus.json\").read_text())),\n",
    "    SLURMAnalyzer().parse(json.loads((dpath / \"sacct_pli_large_campus.json\").read_text()))\n",
    "])"
   ]
  },
  {
   "cell_type": "code",
   "execution_count": 44,
   "metadata": {},
   "outputs": [],
   "source": [
    "## Total GPU h"
   ]
  },
  {
   "cell_type": "code",
   "execution_count": 45,
   "metadata": {},
   "outputs": [],
   "source": [
    "def wait_by_time(df, title=\"\"):\n",
    "    tab = []\n",
    "\n",
    "    def add(label, query):\n",
    "        sdf = df.query(query)\n",
    "        tab.append((label, sdf.wait_time_h.mean(), len(sdf.query(\"wait_time_h > 24\")), len(sdf)))\n",
    "    \n",
    "    add(\"Last 7 days\", \"age_days <= 7\")\n",
    "    add(\"Last 30 days\", \"age_days <= 30\")\n",
    "    # add(\"Last 60 days\", \"age_days <= 60\")\n",
    "    # add(\"Last 90 days\", \"age_days <= 90\")\n",
    "    # add(\"Forever\", \"age_days > 0\")\n",
    "\n",
    "    if title:\n",
    "        print(title)\n",
    "    print(tabulate.tabulate(tab, headers=[\"Period\", \"Avg. wait (h)\", \"jobs with wait > 24h\", \"Jobs\"]))\n"
   ]
  },
  {
   "cell_type": "code",
   "execution_count": 46,
   "metadata": {},
   "outputs": [],
   "source": [
    "def wait_by_partition(df, title=\"\"):\n",
    "    tab = []\n",
    "    for partition in [\"pli-c\", \"pli-lc\", \"pli\"]:\n",
    "        sdf = df.query(f\"partition == '{partition}'\")\n",
    "        tab.append((partition, sdf.wait_time_h.mean(), len(sdf.query(\"wait_time_h > 24\")), len(sdf)))\n",
    "    if title:\n",
    "        print(title)\n",
    "    print(tabulate.tabulate(tab, headers=[\"Partition\", \"Avg. wait (h)\", \"jobs with wait > 24h\", \"Jobs\"]))"
   ]
  },
  {
   "cell_type": "markdown",
   "metadata": {},
   "source": [
    "## Total utilization"
   ]
  },
  {
   "cell_type": "code",
   "execution_count": 47,
   "metadata": {},
   "outputs": [
    {
     "name": "stdout",
     "output_type": "stream",
     "text": [
      "Total utilization for pli-c: 1432k hours\n",
      "Total utilization for pli-lc: 8k hours\n",
      "Total utilization for pli: 335k hours\n"
     ]
    }
   ],
   "source": [
    "for partition in [\"pli-c\", \"pli-lc\", \"pli\"]:\n",
    "    _util = df.query(f\"partition == '{partition}'\")[\"gpu_time_h\"].sum()\n",
    "    print(f\"Total utilization for {partition}: {_util/1000:.0f}k hours\")\n"
   ]
  },
  {
   "cell_type": "markdown",
   "metadata": {},
   "source": [
    "## Wait times: Overall\n"
   ]
  },
  {
   "cell_type": "code",
   "execution_count": 49,
   "metadata": {},
   "outputs": [
    {
     "name": "stdout",
     "output_type": "stream",
     "text": [
      "Overall wait times (small jobs)\n",
      "Partition      Avg. wait (h)    jobs with wait > 24h    Jobs\n",
      "-----------  ---------------  ----------------------  ------\n",
      "pli-c                3.98162                    4557   86775\n",
      "pli-lc               2.36385                      17     940\n",
      "pli                  3.26638                     796   24042\n",
      "\n",
      "Overall wait times (large jobs)\n",
      "Partition      Avg. wait (h)    jobs with wait > 24h    Jobs\n",
      "-----------  ---------------  ----------------------  ------\n",
      "pli-c                5.72588                     585   10835\n",
      "pli-lc               5.09143                       4      50\n",
      "pli                  5.11254                     134    2405\n"
     ]
    }
   ],
   "source": [
    "large_query = \"gpu_time_h > 23\"\n",
    "small_query = \"gpu_time_h <= 23\"\n",
    "\n",
    "wait_by_partition(df.query(small_query), \"Overall wait times (small jobs)\")\n",
    "print()\n",
    "wait_by_partition(df.query(large_query), \"Overall wait times (large jobs)\")\n",
    "# by_partition(df.query(large_query), \"Overall wait times (large jobs)\")\n"
   ]
  },
  {
   "cell_type": "markdown",
   "metadata": {},
   "source": [
    "# Wait times: Details \n"
   ]
  },
  {
   "cell_type": "markdown",
   "metadata": {},
   "source": [
    "\n",
    "## Core partition"
   ]
  },
  {
   "cell_type": "markdown",
   "metadata": {},
   "source": [
    "### Large jobs \n",
    "\n",
    "Use 23h as cutoff point because many jobs are set to terminate after 24h, so we want to avoid that edge."
   ]
  },
  {
   "cell_type": "code",
   "execution_count": 50,
   "metadata": {},
   "outputs": [
    {
     "name": "stdout",
     "output_type": "stream",
     "text": [
      ">= 1 nodes, >= 23h runtime\n",
      "Period          Avg. wait (h)    jobs with wait > 24h    Jobs\n",
      "------------  ---------------  ----------------------  ------\n",
      "Last 7 days           4.12803                       0     145\n",
      "Last 30 days          1.65561                       1     468\n",
      "\n",
      ">= 2 nodes, >= 23h runtime\n",
      "Period          Avg. wait (h)    jobs with wait > 24h    Jobs\n",
      "------------  ---------------  ----------------------  ------\n",
      "Last 7 days           10.2675                       0       1\n",
      "Last 30 days          20.5398                       1       3\n",
      "\n",
      ">= 4 nodes, >= 23h runtime\n",
      "Period          Avg. wait (h)    jobs with wait > 24h    Jobs\n",
      "------------  ---------------  ----------------------  ------\n",
      "Last 7 days           10.2675                       0       1\n",
      "Last 30 days          20.5398                       1       3\n",
      "\n"
     ]
    }
   ],
   "source": [
    "for nodes in [1, 2, 4]:\n",
    "    wait_by_time(df.query(f\"partition == 'pli-c' and allocation_nodes >= {nodes} and elapsed_h > 23\"), f\">= {nodes} nodes, >= 23h runtime\")\n",
    "    print()"
   ]
  },
  {
   "cell_type": "markdown",
   "metadata": {},
   "source": [
    "### Smaller jobs"
   ]
  },
  {
   "cell_type": "code",
   "execution_count": 51,
   "metadata": {},
   "outputs": [
    {
     "name": "stdout",
     "output_type": "stream",
     "text": [
      ">= 1 GPU hours\n",
      "Period          Avg. wait (h)    jobs with wait > 24h    Jobs\n",
      "------------  ---------------  ----------------------  ------\n",
      "Last 7 days           1.98473                       1    1883\n",
      "Last 30 days          1.35327                      16    6405\n",
      "\n",
      ">= 10 GPU hours\n",
      "Period          Avg. wait (h)    jobs with wait > 24h    Jobs\n",
      "------------  ---------------  ----------------------  ------\n",
      "Last 7 days           2.63008                       0     688\n",
      "Last 30 days          1.84987                      14    2523\n",
      "\n",
      ">= 24 GPU hours\n",
      "Period          Avg. wait (h)    jobs with wait > 24h    Jobs\n",
      "------------  ---------------  ----------------------  ------\n",
      "Last 7 days           3.26511                       0     431\n",
      "Last 30 days          2.4314                       13    1381\n",
      "\n"
     ]
    }
   ],
   "source": [
    "for t in [1, 10, 24]:\n",
    "    wait_by_time(df.query(f\"partition == 'pli-c' and gpu_time_h >= {t}\"), f\">= {t} GPU hours\")\n",
    "    print()"
   ]
  },
  {
   "cell_type": "markdown",
   "metadata": {},
   "source": [
    "## Campus partition"
   ]
  },
  {
   "cell_type": "code",
   "execution_count": 52,
   "metadata": {},
   "outputs": [
    {
     "name": "stdout",
     "output_type": "stream",
     "text": [
      ">= 1 GPU hours\n",
      "Period          Avg. wait (h)    jobs with wait > 24h    Jobs\n",
      "------------  ---------------  ----------------------  ------\n",
      "Last 7 days          19.6366                       93     367\n",
      "Last 30 days          8.48028                     162    1611\n",
      "\n",
      ">= 10 GPU hours\n",
      "Period          Avg. wait (h)    jobs with wait > 24h    Jobs\n",
      "------------  ---------------  ----------------------  ------\n",
      "Last 7 days           26.9257                      86     217\n",
      "Last 30 days          14.6505                     127     611\n",
      "\n",
      ">= 24 GPU hours\n",
      "Period          Avg. wait (h)    jobs with wait > 24h    Jobs\n",
      "------------  ---------------  ----------------------  ------\n",
      "Last 7 days           13.078                        4      47\n",
      "Last 30 days          11.5208                      43     279\n",
      "\n"
     ]
    }
   ],
   "source": [
    "for t in [1, 10, 24]:\n",
    "    wait_by_time(df.query(f\"partition == 'pli' and gpu_time_h >= {t}\"), f\">= {t} GPU hours\")\n",
    "    print()"
   ]
  },
  {
   "cell_type": "markdown",
   "metadata": {},
   "source": [
    "## Large campus partition"
   ]
  },
  {
   "cell_type": "code",
   "execution_count": 53,
   "metadata": {},
   "outputs": [
    {
     "name": "stdout",
     "output_type": "stream",
     "text": [
      ">= 1 GPU hours\n",
      "Period          Avg. wait (h)    jobs with wait > 24h    Jobs\n",
      "------------  ---------------  ----------------------  ------\n",
      "Last 7 days           3.16946                       2      46\n",
      "Last 30 days          1.5502                        2     295\n",
      "\n",
      ">= 10 GPU hours\n",
      "Period          Avg. wait (h)    jobs with wait > 24h    Jobs\n",
      "------------  ---------------  ----------------------  ------\n",
      "Last 7 days          0.133287                       0      12\n",
      "Last 30 days         2.44854                        0      70\n",
      "\n",
      ">= 24 GPU hours\n",
      "Period          Avg. wait (h)    jobs with wait > 24h    Jobs\n",
      "------------  ---------------  ----------------------  ------\n",
      "Last 7 days          0.517593                       0       3\n",
      "Last 30 days         0.216375                       0      20\n",
      "\n"
     ]
    }
   ],
   "source": [
    "for t in [1, 10, 24]:\n",
    "    wait_by_time(df.query(f\"partition == 'pli-lc' and gpu_time_h >= {t}\"), f\">= {t} GPU hours\")\n",
    "    print()"
   ]
  },
  {
   "cell_type": "code",
   "execution_count": null,
   "metadata": {},
   "outputs": [],
   "source": []
  }
 ],
 "metadata": {
  "kernelspec": {
   "display_name": ".venv",
   "language": "python",
   "name": "python3"
  },
  "language_info": {
   "codemirror_mode": {
    "name": "ipython",
    "version": 3
   },
   "file_extension": ".py",
   "mimetype": "text/x-python",
   "name": "python",
   "nbconvert_exporter": "python",
   "pygments_lexer": "ipython3",
   "version": "3.12.5"
  }
 },
 "nbformat": 4,
 "nbformat_minor": 4
}
