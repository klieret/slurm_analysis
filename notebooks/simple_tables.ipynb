{
 "cells": [
  {
   "cell_type": "markdown",
   "metadata": {},
   "source": [
    "# Tally slurm total GPU hours for an account\n",
    "\n",
    "This assumes that you have run\n",
    "\n",
    "```bash\n",
    "STARTDATE=2024-01-26\n",
    "sacct -S \"${STARTDATE}\" --partition pli-c --allusers --json > sacct_pli_core.json    \n",
    "sacct -S \"${STARTDATE}\" --partition pli-lc --allusers --json > sacct_pli_large_campus.json    \n",
    "sacct -S \"${STARTDATE}\" --partition pli --allusers --json > sacct_pli_campus.json    \n",
    "```\n"
   ]
  },
  {
   "cell_type": "code",
   "execution_count": 41,
   "metadata": {},
   "outputs": [
    {
     "name": "stdout",
     "output_type": "stream",
     "text": [
      "The autoreload extension is already loaded. To reload it, use:\n",
      "  %reload_ext autoreload\n"
     ]
    }
   ],
   "source": [
    "%load_ext autoreload\n",
    "%autoreload 2\n",
    "\n",
    "import json\n",
    "from pathlib import Path\n",
    "from pandas import DataFrame as DF\n",
    "from slurm_analyzer import SLURMAnalyzer\n",
    "import pandas as pd\n",
    "from datetime import datetime\n",
    "import tabulate"
   ]
  },
  {
   "cell_type": "code",
   "execution_count": 42,
   "metadata": {},
   "outputs": [],
   "source": [
    "# dpath = Path(\"..\", 'data')\n",
    "# assert dpath.is_dir()\n",
    "dpath = Path.home() / \"tmp\"\n"
   ]
  },
  {
   "cell_type": "code",
   "execution_count": 43,
   "metadata": {},
   "outputs": [
    {
     "name": "stdout",
     "output_type": "stream",
     "text": [
      "Filtered 29421 jobs (16%) with no gpus\n",
      "Filtered 53984 jobs (36%) with < 10min run time\n",
      "Filtered 7580 jobs (14%) with no gpus\n",
      "Filtered 18639 jobs (41%) with < 10min run time\n",
      "Filtered 199 jobs (11%) with no gpus\n",
      "Filtered 620 jobs (39%) with < 10min run time\n"
     ]
    }
   ],
   "source": [
    "df = pd.concat([\n",
    "    SLURMAnalyzer().parse(json.loads((dpath / \"sacct_pli_core.json\").read_text())),\n",
    "    SLURMAnalyzer().parse(json.loads((dpath / \"sacct_pli_campus.json\").read_text())),\n",
    "    SLURMAnalyzer().parse(json.loads((dpath / \"sacct_pli_large_campus.json\").read_text()))\n",
    "])"
   ]
  },
  {
   "cell_type": "code",
   "execution_count": 44,
   "metadata": {},
   "outputs": [],
   "source": [
    "## Total GPU h"
   ]
  },
  {
   "cell_type": "code",
   "execution_count": 45,
   "metadata": {},
   "outputs": [],
   "source": [
    "def wait_by_time(df, title=\"\"):\n",
    "    tab = []\n",
    "\n",
    "    def add(label, query):\n",
    "        sdf = df.query(query)\n",
    "        tab.append((label, sdf.wait_time_h.mean(), len(sdf.query(\"wait_time_h > 24\")), len(sdf)))\n",
    "    \n",
    "    add(\"Last 7 days\", \"age_days <= 7\")\n",
    "    add(\"Last 30 days\", \"age_days <= 30\")\n",
    "    # add(\"Last 60 days\", \"age_days <= 60\")\n",
    "    # add(\"Last 90 days\", \"age_days <= 90\")\n",
    "    # add(\"Forever\", \"age_days > 0\")\n",
    "\n",
    "    if title:\n",
    "        print(title)\n",
    "    print(tabulate.tabulate(tab, headers=[\"Period\", \"Avg. wait (h)\", \"jobs with wait > 24h\", \"Jobs\"]))\n"
   ]
  },
  {
   "cell_type": "code",
   "execution_count": 46,
   "metadata": {},
   "outputs": [],
   "source": [
    "def wait_by_partition(df, title=\"\"):\n",
    "    tab = []\n",
    "    for partition in [\"pli-c\", \"pli-lc\", \"pli\"]:\n",
    "        sdf = df.query(f\"partition == '{partition}'\")\n",
    "        tab.append((partition, sdf.wait_time_h.mean(), len(sdf.query(\"wait_time_h > 24\")), len(sdf)))\n",
    "    if title:\n",
    "        print(title)\n",
    "    print(tabulate.tabulate(tab, headers=[\"Partition\", \"Avg. wait (h)\", \"jobs with wait > 24h\", \"Jobs\"]))"
   ]
  },
  {
   "cell_type": "markdown",
   "metadata": {},
   "source": [
    "## Total utilization"
   ]
  },
  {
   "cell_type": "code",
   "execution_count": 47,
   "metadata": {},
   "outputs": [
    {
     "name": "stdout",
     "output_type": "stream",
     "text": [
      "Total utilization for pli-c: 1432k hours\n",
      "Total utilization for pli-lc: 8k hours\n",
      "Total utilization for pli: 335k hours\n"
     ]
    }
   ],
   "source": [
    "for partition in [\"pli-c\", \"pli-lc\", \"pli\"]:\n",
    "    _util = df.query(f\"partition == '{partition}'\")[\"gpu_time_h\"].sum()\n",
    "    print(f\"Total utilization for {partition}: {_util/1000:.0f}k hours\")\n"
   ]
  },
  {
   "cell_type": "markdown",
   "metadata": {},
   "source": [
    "## Wait times: Overall\n"
   ]
  },
  {
   "cell_type": "code",
   "execution_count": 49,
   "metadata": {},
   "outputs": [
    {
     "name": "stdout",
     "output_type": "stream",
     "text": [
      "Overall wait times (small jobs)\n",
      "Partition      Avg. wait (h)    jobs with wait > 24h    Jobs\n",
      "-----------  ---------------  ----------------------  ------\n",
      "pli-c                3.98162                    4557   86775\n",
      "pli-lc               2.36385                      17     940\n",
      "pli                  3.26638                     796   24042\n",
      "\n",
      "Overall wait times (large jobs)\n",
      "Partition      Avg. wait (h)    jobs with wait > 24h    Jobs\n",
      "-----------  ---------------  ----------------------  ------\n",
      "pli-c                5.72588                     585   10835\n",
      "pli-lc               5.09143                       4      50\n",
      "pli                  5.11254                     134    2405\n"
     ]
    }
   ],
   "source": [
    "large_query = \"gpu_time_h > 23\"\n",
    "small_query = \"gpu_time_h <= 23\"\n",
    "\n",
    "wait_by_partition(df.query(small_query), \"Overall wait times (small jobs)\")\n",
    "print()\n",
    "wait_by_partition(df.query(large_query), \"Overall wait times (large jobs)\")\n",
    "# by_partition(df.query(large_query), \"Overall wait times (large jobs)\")\n"
   ]
  },
  {
   "cell_type": "markdown",
   "metadata": {},
   "source": [
    "# Wait times: Details \n"
   ]
  },
  {
   "cell_type": "markdown",
   "metadata": {},
   "source": [
    "\n",
    "## Core partition"
   ]
  },
  {
   "cell_type": "markdown",
   "metadata": {},
   "source": [
    "### Large jobs \n",
    "\n",
    "Use 23h as cutoff point because many jobs are set to terminate after 24h, so we want to avoid that edge."
   ]
  },
  {
   "cell_type": "code",
   "execution_count": 50,
   "metadata": {},
   "outputs": [
    {
     "name": "stdout",
     "output_type": "stream",
     "text": [
      ">= 1 nodes, >= 23h runtime\n",
      "Period          Avg. wait (h)    jobs with wait > 24h    Jobs\n",
      "------------  ---------------  ----------------------  ------\n",
      "Last 7 days           4.12803                       0     145\n",
      "Last 30 days          1.65561                       1     468\n",
      "\n",
      ">= 2 nodes, >= 23h runtime\n",
      "Period          Avg. wait (h)    jobs with wait > 24h    Jobs\n",
      "------------  ---------------  ----------------------  ------\n",
      "Last 7 days           10.2675                       0       1\n",
      "Last 30 days          20.5398                       1       3\n",
      "\n",
      ">= 4 nodes, >= 23h runtime\n",
      "Period          Avg. wait (h)    jobs with wait > 24h    Jobs\n",
      "------------  ---------------  ----------------------  ------\n",
      "Last 7 days           10.2675                       0       1\n",
      "Last 30 days          20.5398                       1       3\n",
      "\n"
     ]
    }
   ],
   "source": [
    "for nodes in [1, 2, 4]:\n",
    "    wait_by_time(df.query(f\"partition == 'pli-c' and allocation_nodes >= {nodes} and elapsed_h > 23\"), f\">= {nodes} nodes, >= 23h runtime\")\n",
    "    print()"
   ]
  },
  {
   "cell_type": "markdown",
   "metadata": {},
   "source": [
    "### Smaller jobs"
   ]
  },
  {
   "cell_type": "code",
   "execution_count": 51,
   "metadata": {},
   "outputs": [
    {
     "name": "stdout",
     "output_type": "stream",
     "text": [
      ">= 1 GPU hours\n",
      "Period          Avg. wait (h)    jobs with wait > 24h    Jobs\n",
      "------------  ---------------  ----------------------  ------\n",
      "Last 7 days           1.98473                       1    1883\n",
      "Last 30 days          1.35327                      16    6405\n",
      "\n",
      ">= 10 GPU hours\n",
      "Period          Avg. wait (h)    jobs with wait > 24h    Jobs\n",
      "------------  ---------------  ----------------------  ------\n",
      "Last 7 days           2.63008                       0     688\n",
      "Last 30 days          1.84987                      14    2523\n",
      "\n",
      ">= 24 GPU hours\n",
      "Period          Avg. wait (h)    jobs with wait > 24h    Jobs\n",
      "------------  ---------------  ----------------------  ------\n",
      "Last 7 days           3.26511                       0     431\n",
      "Last 30 days          2.4314                       13    1381\n",
      "\n"
     ]
    }
   ],
   "source": [
    "for t in [1, 10, 24]:\n",
    "    wait_by_time(df.query(f\"partition == 'pli-c' and gpu_time_h >= {t}\"), f\">= {t} GPU hours\")\n",
    "    print()"
   ]
  },
  {
   "cell_type": "markdown",
   "metadata": {},
   "source": [
    "## Campus partition"
   ]
  },
  {
   "cell_type": "code",
   "execution_count": 52,
   "metadata": {},
   "outputs": [
    {
     "name": "stdout",
     "output_type": "stream",
     "text": [
      ">= 1 GPU hours\n",
      "Period          Avg. wait (h)    jobs with wait > 24h    Jobs\n",
      "------------  ---------------  ----------------------  ------\n",
      "Last 7 days          19.6366                       93     367\n",
      "Last 30 days          8.48028                     162    1611\n",
      "\n",
      ">= 10 GPU hours\n",
      "Period          Avg. wait (h)    jobs with wait > 24h    Jobs\n",
      "------------  ---------------  ----------------------  ------\n",
      "Last 7 days           26.9257                      86     217\n",
      "Last 30 days          14.6505                     127     611\n",
      "\n",
      ">= 24 GPU hours\n",
      "Period          Avg. wait (h)    jobs with wait > 24h    Jobs\n",
      "------------  ---------------  ----------------------  ------\n",
      "Last 7 days           13.078                        4      47\n",
      "Last 30 days          11.5208                      43     279\n",
      "\n"
     ]
    }
   ],
   "source": [
    "for t in [1, 10, 24]:\n",
    "    wait_by_time(df.query(f\"partition == 'pli' and gpu_time_h >= {t}\"), f\">= {t} GPU hours\")\n",
    "    print()"
   ]
  },
  {
   "cell_type": "markdown",
   "metadata": {},
   "source": [
    "## Large campus partition"
   ]
  },
  {
   "cell_type": "code",
   "execution_count": 53,
   "metadata": {},
   "outputs": [
    {
     "name": "stdout",
     "output_type": "stream",
     "text": [
      ">= 1 GPU hours\n",
      "Period          Avg. wait (h)    jobs with wait > 24h    Jobs\n",
      "------------  ---------------  ----------------------  ------\n",
      "Last 7 days           3.16946                       2      46\n",
      "Last 30 days          1.5502                        2     295\n",
      "\n",
      ">= 10 GPU hours\n",
      "Period          Avg. wait (h)    jobs with wait > 24h    Jobs\n",
      "------------  ---------------  ----------------------  ------\n",
      "Last 7 days          0.133287                       0      12\n",
      "Last 30 days         2.44854                        0      70\n",
      "\n",
      ">= 24 GPU hours\n",
      "Period          Avg. wait (h)    jobs with wait > 24h    Jobs\n",
      "------------  ---------------  ----------------------  ------\n",
      "Last 7 days          0.517593                       0       3\n",
      "Last 30 days         0.216375                       0      20\n",
      "\n"
     ]
    }
   ],
   "source": [
    "for t in [1, 10, 24]:\n",
    "    wait_by_time(df.query(f\"partition == 'pli-lc' and gpu_time_h >= {t}\"), f\">= {t} GPU hours\")\n",
    "    print()"
   ]
  },
  {
   "cell_type": "code",
   "execution_count": null,
   "metadata": {},
   "outputs": [],
   "source": []
  }
 ],
 "metadata": {
  "kernelspec": {
   "display_name": ".venv",
   "language": "python",
   "name": "python3"
  },
  "language_info": {
   "codemirror_mode": {
    "name": "ipython",
    "version": 3
   },
   "file_extension": ".py",
   "mimetype": "text/x-python",
   "name": "python",
   "nbconvert_exporter": "python",
   "pygments_lexer": "ipython3",
   "version": "3.12.5"
  }
 },
 "nbformat": 4,
 "nbformat_minor": 4
}
